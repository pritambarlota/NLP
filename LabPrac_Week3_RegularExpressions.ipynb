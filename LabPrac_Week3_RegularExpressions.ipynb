{
 "cells": [
  {
   "cell_type": "code",
   "execution_count": 8,
   "metadata": {},
   "outputs": [
    {
     "name": "stdout",
     "output_type": "stream",
     "text": [
      "['101', 'COM', '', '', '', 'Computer', '205', 'MAT', 'Mathematics', '8900', 'ENG', 'English']\n",
      "['101', 'COM', 'Computer', '205', 'MAT', 'Mathematics', '8900', 'ENG', 'English']\n",
      "['101', 'COM', 'Computer', '205', 'MAT', 'Mathematics', '8900', 'ENG', 'English']\n"
     ]
    },
    {
     "name": "stderr",
     "output_type": "stream",
     "text": [
      "C:\\Users\\prita\\Anaconda3\\lib\\re.py:212: FutureWarning: split() requires a non-empty pattern match.\n",
      "  return _compile(pattern, flags).split(string, maxsplit)\n"
     ]
    }
   ],
   "source": [
    "import re\n",
    "text='101 COM    Computer 205 MAT Mathematics 8900 ENG English'\n",
    "print(re.split('\\s', text))\n",
    "\n",
    "print(re.split('\\s+', text))\n",
    "\n",
    "print(re.split('\\s*', text))"
   ]
  },
  {
   "cell_type": "code",
   "execution_count": 10,
   "metadata": {},
   "outputs": [
    {
     "name": "stdout",
     "output_type": "stream",
     "text": [
      "['1', '0', '1', '2', '0', '5', '8', '9', '0', '0']\n",
      "['101', '205', '890', '0']\n",
      "['101', '', '', '', '', '', '', '', '', '', '', '', '', '', '', '', '', '', '205', '', '', '', '', '', '', '', '', '', '', '', '', '', '', '', '', '', '8900', '', '', '', '', '', '', '', '', '', '', '', '', '']\n"
     ]
    }
   ],
   "source": [
    "print(re.findall('\\d',text))\n",
    "\n",
    "print(re.findall('\\d{1,3}',text))\n",
    "\n",
    "print(re.findall('\\d*',text))"
   ]
  },
  {
   "cell_type": "code",
   "execution_count": 13,
   "metadata": {},
   "outputs": [
    {
     "name": "stdout",
     "output_type": "stream",
     "text": [
      "['1', '0', '1', 'C', 'O', 'M', 'C', 'o', 'm', 'p', 'u', 't', 'e', 'r', '2', '0', '5', 'M', 'A', 'T', 'M', 'a', 't', 'h', 'e', 'm', 'a', 't', 'i', 'c', 's', '8', '9', '0', '0', 'E', 'N', 'G', 'E', 'n', 'g', 'l', 'i', 's', 'h']\n",
      "['101', '', 'COM', '', '', '', '', 'Computer', '', '205', '', 'MAT', '', 'Mathematics', '', '8900', '', 'ENG', '', 'English', '']\n"
     ]
    }
   ],
   "source": [
    "print(re.findall('\\w',text))\n",
    "\n",
    "print(re.findall('\\w*',text))"
   ]
  },
  {
   "cell_type": "code",
   "execution_count": 36,
   "metadata": {},
   "outputs": [
    {
     "name": "stdout",
     "output_type": "stream",
     "text": [
      "['o', 'm', 'p', 'u', 't', 'e', 'r', 'a', 't', 'h', 'e', 'm', 'a', 't', 'i', 'c', 's', 'n', 'g', 'l', 'i', 's', 'h']\n",
      "['omputer', 'athematics', 'nglish']\n",
      "['C', 'O', 'M', 'C', 'M', 'A', 'T', 'M', 'E', 'N', 'G', 'E']\n",
      "['COM', 'C', 'MAT', 'M', 'ENG', 'E']\n",
      "['Co', 'Ma', 'En']\n",
      "['C', 'O', 'M', 'C', 'o', 'm', 'p', 'u', 't', 'e', 'r', 'M', 'A', 'T', 'M', 'a', 't', 'h', 'e', 'm', 'a', 't', 'i', 'c', 's', 'E', 'N', 'G', 'E', 'n', 'g', 'l', 'i', 's', 'h']\n",
      "['Computer', 'Mathematics', 'English']\n",
      "['Co', 'Ma', 'En']\n",
      "['COM', 'MAT', 'ENG']\n",
      "['COM', 'MAT', 'ENG']\n",
      "['101 COM    Computer 205 MAT Mathematics 8900 ENG English']\n",
      "['101', 'COM', 'Computer', '205', 'MAT', 'Mathematics', '8900', 'ENG', 'English']\n",
      "['101', 'Computer', '205', 'Mathematics', '8900', 'English']\n"
     ]
    }
   ],
   "source": [
    "print(re.findall('[a-z]',text))\n",
    "\n",
    "print(re.findall('[a-z]+',text))\n",
    "\n",
    "print(re.findall('[A-Z]',text))\n",
    "\n",
    "print(re.findall('[A-Z]+',text))\n",
    "\n",
    "print(re.findall('[A-Z][a-z]',text))\n",
    "\n",
    "print(re.findall('[A-Z]|[a-z]',text))    ## |\n",
    "\n",
    "print(re.findall('[A-Z][a-z]+',text)) \n",
    "\n",
    "print(re.findall('([A-Z][a-z])+',text))   ## check the bracket\n",
    "\n",
    "print(re.findall('[A-Z]{3}',text))                ##Match A-Z for exactly 3\n",
    "\n",
    "print(re.findall('[A-Z]{2,100000}',text))   \n",
    "\n",
    "print(re.findall('.+',text))    ## To match anything\n",
    "\n",
    "print(re.findall('[A-Za-z0-9]+',text))\n",
    "\n",
    "print(re.findall('([A-Z][a-z]+| [a-z]+ |[0-9]+)',text))"
   ]
  },
  {
   "cell_type": "code",
   "execution_count": 41,
   "metadata": {},
   "outputs": [
    {
     "name": "stdout",
     "output_type": "stream",
     "text": [
      "['MAT']\n",
      "['ENG']\n"
     ]
    }
   ],
   "source": [
    "print(re.findall('205 ([A-Z]+)',text))\n",
    "\n",
    "print(re.findall('8900 ([A-Z]+)',text))"
   ]
  },
  {
   "cell_type": "code",
   "execution_count": 46,
   "metadata": {},
   "outputs": [
    {
     "name": "stdout",
     "output_type": "stream",
     "text": [
      "['ed']\n",
      "['abandoned', ',', 'abandon', ',', 'help', ',', 'abraised', ',', 'open', ',', 'closed']\n",
      "abandoned\n",
      "abraised\n",
      "closed\n",
      "abandoned\n",
      "abandon\n",
      "abraised\n"
     ]
    }
   ],
   "source": [
    "import re\n",
    "import nltk\n",
    "\n",
    "text = 'abandoned, abandon, help, abraised, open, closed'\n",
    "\n",
    "print(re.findall('ed$',text))\n",
    "\n",
    "## extract the word ending with ed\n",
    "wordlist = nltk.word_tokenize(text)\n",
    "print(wordlist)\n",
    "\n",
    "for w in wordlist:\n",
    "    if re.search('ed$',w):\n",
    "        print(w)\n",
    "        \n",
    "for w in wordlist:\n",
    "    if re.search('^ab',w):\n",
    "        print(w)"
   ]
  },
  {
   "cell_type": "code",
   "execution_count": 50,
   "metadata": {},
   "outputs": [
    {
     "name": "stdout",
     "output_type": "stream",
     "text": [
      "objected\n",
      "injected\n"
     ]
    }
   ],
   "source": [
    "text2 = 'objected,injected,majestic,object'\n",
    "wordlist=nltk.word_tokenize(text2)\n",
    "\n",
    "for w in wordlist:\n",
    "    if re.search('^..j..t.d$',w):\n",
    "        print(w)"
   ]
  },
  {
   "cell_type": "code",
   "execution_count": 70,
   "metadata": {},
   "outputs": [
    {
     "name": "stdout",
     "output_type": "stream",
     "text": [
      "['e', 'a', 'e', 'a', 'i', 'e', 'i', 'i', 'a', 'e']\n",
      "3\n",
      "process\n",
      "\n",
      " ['ing']\n",
      "process\n",
      "\n",
      "function 3\n",
      "\n",
      " [('process', 'ing')]\n",
      "('process', 'ing')\n"
     ]
    }
   ],
   "source": [
    "import re\n",
    "text=\"we are taking text mining classes\"\n",
    "\n",
    "x=re.findall('[aeiou]',text)\n",
    "print(x)\n",
    "print(x.count('a'))\n",
    "\n",
    "\n",
    "def stem(word):\n",
    "    suffix=['ing', 'es','ly','ed','ious','ive','ment']\n",
    "    for i in suffix:\n",
    "        if word.endswith(i):\n",
    "            length=len(i)\n",
    "            return word[:-length]\n",
    "        \n",
    "print(stem(\"processing\"))\n",
    "\n",
    "\n",
    "def stem2(word):\n",
    "    x=re.findall('^.+(ing|es|ly|ed|ious|ive|ment)$', word)\n",
    "    print(\"\\n\",x)                                                           ## x is list\n",
    "    length=len(x[0])\n",
    "    return word[:-length]\n",
    "    \n",
    "print(stem2(\"processing\"))\n",
    "\n",
    "\n",
    "print(\"\\nfunction 3\")\n",
    "def stem3(word):\n",
    "    x=re.findall('^(.+)(ing|es|ly|ed|ious|ive|ment)$', word)            ##it returns all the values mathced with ()\n",
    "    print(\"\\n\",x)                                                           ## x is list\n",
    "    suffix = x[0][1]\n",
    "    stem = x[0][0]\n",
    "    return (stem, suffix)\n",
    "\n",
    "print(stem3(\"processing\"))\n"
   ]
  },
  {
   "cell_type": "code",
   "execution_count": 82,
   "metadata": {},
   "outputs": [
    {
     "name": "stdout",
     "output_type": "stream",
     "text": [
      "None\n",
      "<_sre.SRE_Match object; span=(0, 7), match='101 COM'>\n",
      "101 COM\n",
      "(0, 7)\n",
      "0\n",
      "7\n",
      "False\n",
      "True\n"
     ]
    }
   ],
   "source": [
    "text = '101 COM   Computer 1010 MAT  Mathematics'\n",
    "pattern1='[a-z]{3,4}\\s[A-Z]+' ## this is case of no match\n",
    "print(re.match(pattern1, text))\n",
    "\n",
    "pattern2='[0-9]{3,4}\\s[A-Z]+'               \n",
    "x=re.match(pattern2, text)\n",
    "print(x)\n",
    "\n",
    "print(x.group())\n",
    "print(x.span())\n",
    "print(x.start())\n",
    "print(x.end())\n",
    "\n",
    "\n",
    "text = '1010 MAT  Mathematics  101 COM   Computer'\n",
    "pattern1='[0-9]{3,4}\\s[A-Z]+'\n",
    "print(re.match(pattern,text) !=None)\n",
    "print(re.search(pattern,text) != None)              # T"
   ]
  },
  {
   "cell_type": "code",
   "execution_count": 83,
   "metadata": {},
   "outputs": [
    {
     "name": "stdout",
     "output_type": "stream",
     "text": [
      "['golf', 'gold']\n"
     ]
    }
   ],
   "source": [
    "import re\n",
    "wordlist=['golf','wolf','gold']\n",
    "\n",
    "pattern='^[fgd][opq]..$'\n",
    "x=[w for w in wordlist if re.search(pattern,w)!=None]\n",
    "print(x)"
   ]
  },
  {
   "cell_type": "code",
   "execution_count": 98,
   "metadata": {},
   "outputs": [
    {
     "name": "stdout",
     "output_type": "stream",
     "text": [
      "[['now', 'im', 'left', 'with', 'this', 'gay', 'name'], [':P'], ...]\n",
      "['now', 'im', 'left', 'with', 'this', 'gay', 'name', ...]\n",
      "im\n",
      "['mmmmmmmmiiiiiiiiinnnnnnnnneeeeeeee', 'mine', 'miiiiiinnnnnnnnnneeeeeeee', 'miiiiiiiiiiiiinnnnnnnnnnneeeeeeeeee']\n",
      "['1016.', '1930', '2006', '95953', '29803', '99703', '73042', '99701', '1200', '92129', '33982', '1985', '1980', '92780', '3333333', '1012.', '28147', '57401', '8082653953', '1900', '1996', '1299']\n",
      "['147.7', '102.6', '39.3', '45.5', '2.3', '9.53', '121.7', '64.8', '1.98', '98.6', '1.99', '98.5', '4.20']\n",
      "['co-op', 'b-day', 'pro-se', 'f-ing', 'x-mas', 'no-no', 'lucy-fur', 'e-bay', 'z-ro']\n",
      "['ahh', 'hahaaa', 'ahhahahaha', 'ahhhhhhhhhhhhhh', 'haaa', 'haha', 'hahahah', 'hahahahahahahahahahahahahahahaha', 'a', 'hahahaa', 'hahahahaaa', 'ahhh', 'ahah', 'hah', 'ahhhh', 'hahahahahahaha', 'hahaha', 'h', 'hahhahahaha', 'ah', 'aaaaaaaaaaaaaaaaa', 'ahhhhhh', 'ahahah', 'hahahaha', 'hahahahahaha', 'hahahhahah', 'hahah', 'ha', 'aaahhhh']\n"
     ]
    }
   ],
   "source": [
    "import nltk\n",
    "x=nltk.corpus.nps_chat.posts()\n",
    "y=nltk.corpus.nps_chat.words()\n",
    "print(x)\n",
    "print(y)\n",
    "print(y[1])\n",
    "\n",
    "pattern='^m+i+n+e+$'\n",
    "print([w for w in set(y) if re.search(pattern,w)!= None ])\n",
    "\n",
    "pattern2='^\\d{4}'              ##match year\n",
    "print([w for w in set(y) if re.search(pattern2,w)!= None ])\n",
    "\n",
    "pattern3='^\\d+\\.\\d+$'              ##match float\n",
    "print([w for w in set(y) if re.search(pattern3,w)!= None ])\n",
    "\n",
    "pattern4='^[a-z]{,5}-[a-z]{2,3}$'              ##match no-no\n",
    "print([w for w in set(y) if re.search(pattern4,w)!= None ])\n",
    "\n",
    "pattern5='^[ah]+$'              ##match ah\n",
    "print([w for w in set(y) if re.search(pattern5,w)!= None ])"
   ]
  },
  {
   "cell_type": "code",
   "execution_count": 125,
   "metadata": {},
   "outputs": [
    {
     "name": "stdout",
     "output_type": "stream",
     "text": [
      "13\n",
      "['conversation', 'Playstation', 'elevation', 'information', 'fascination', 'denomination', 'registration', 'cessation', 'relation', 'playstation', 'salvation', 'moderation', 'situation']\n"
     ]
    }
   ],
   "source": [
    "y=nltk.corpus.nps_chat.words()\n",
    "pattern='a[st]ion$'\n",
    "x = [w for w in set(y) if re.search(pattern,w)!= None ]\n",
    "\n",
    "print(len(x))\n",
    "print(x)"
   ]
  },
  {
   "cell_type": "code",
   "execution_count": 126,
   "metadata": {},
   "outputs": [
    {
     "name": "stdout",
     "output_type": "stream",
     "text": [
      "['Nooo', 'Nooooooooooooooo', 'noooooooooooooo', 'no', 'NO', 'No', 'noooooooooo', 'noo', 'nooooo']\n"
     ]
    }
   ],
   "source": [
    "pattern='^[Nn]+[Oo]+$'\n",
    "x = [w for w in set(y) if re.search(pattern,w)!= None ]\n",
    "\n",
    "#print(len(x))\n",
    "print(x)"
   ]
  },
  {
   "cell_type": "code",
   "execution_count": 141,
   "metadata": {},
   "outputs": [
    {
     "name": "stdout",
     "output_type": "stream",
     "text": [
      "<_sre.SRE_Match object; span=(0, 4), match='1.01'>\n",
      "<_sre.SRE_Match object; span=(5, 7), match='CO'>\n",
      "<_sre.SRE_Match object; span=(8, 17), match='Computers'>\n"
     ]
    }
   ],
   "source": [
    "## Match and Search stops after first match  but Match starts from first char while Search starts from anywhere\n",
    "course_info=\"1.01 CO Computers 2.05 MATH Mathematics 8.8 ENG English\"\n",
    "\n",
    "pattern1='[0-9]+\\.[0-9]+'\n",
    "print(re.search(pattern1, course_info))\n",
    "\n",
    "pattern2='[A-Z]+'\n",
    "print(re.search(pattern2, course_info))\n",
    "\n",
    "pattern3='[A-Z]+[a-z]+'\n",
    "print(re.search(pattern3, course_info))\n"
   ]
  },
  {
   "cell_type": "code",
   "execution_count": 144,
   "metadata": {},
   "outputs": [
    {
     "name": "stdout",
     "output_type": "stream",
     "text": [
      "['1.01', '2.05', '8.8']\n",
      "['CO ', 'MATH ', 'ENG ']\n",
      "['Computers', 'Mathematics', 'English']\n"
     ]
    }
   ],
   "source": [
    "course_info=\"1.01 CO Computers 2.05 MATH Mathematics 8.8 ENG English\"\n",
    "\n",
    "pattern1='[0-9]+\\.[0-9]+'\n",
    "print(re.findall(pattern1, course_info))\n",
    "\n",
    "pattern2='[A-Z]+\\s'\n",
    "print(re.findall(pattern2, course_info))\n",
    "\n",
    "pattern3='[A-Z]+[a-z]+'\n",
    "print(re.findall(pattern3, course_info))\n"
   ]
  }
 ],
 "metadata": {
  "kernelspec": {
   "display_name": "Python 3",
   "language": "python",
   "name": "python3"
  },
  "language_info": {
   "codemirror_mode": {
    "name": "ipython",
    "version": 3
   },
   "file_extension": ".py",
   "mimetype": "text/x-python",
   "name": "python",
   "nbconvert_exporter": "python",
   "pygments_lexer": "ipython3",
   "version": "3.6.3"
  }
 },
 "nbformat": 4,
 "nbformat_minor": 2
}
